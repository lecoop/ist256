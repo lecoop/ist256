{
 "cells": [
  {
   "cell_type": "markdown",
   "metadata": {},
   "source": [
    "# IST256 Project Deliverable 3 (P3)\n",
    "\n",
    "## Phase 3: Implementation\n",
    "\n",
    "In this step, you submit the final version of working code. No changes to your code will be considered after this submission. It is important to take prior instructor feedback taken into consideration and these factor into your evaluation.\n",
    "\n",
    "**IMPORTANT**: Don't forget to journal your work on the project as it factors into the evaluation of your work!"
   ]
  },
  {
   "cell_type": "markdown",
   "metadata": {},
   "source": [
    "### Step 1: What is Your Idea, Again?\n",
    "\n",
    "Please reiterate your project idea below (you can copy it from P1/P2).\n",
    "\n",
    "`--== Double-click and put the title or brief description of your project below  ==--`\n",
    "\n",
    "Title: \"Date Planner\"\n",
    "Description: A program that helps someone get ready for a dinner date. The program calculates the zodiac and name compatibility of the person and their date, provides a recipe for a meal for them to cook, provides a cocktail recipe for them to serve with the dinner, provides conversation topics and jokes to tell there date and final provides the user with a qoute about love to think about before their date. The code has emojis for visual elements and uses a user interact. Supposed to be a fun light hearted program that someone can run before their date or actually use. "
   ]
  },
  {
   "cell_type": "markdown",
   "metadata": {},
   "source": [
    "### Step 2: Project Code\n",
    "\n",
    "Include all project code below. Make sure to execute your code to ensure it runs properly before you turn it in. \n"
   ]
  },
  {
   "cell_type": "code",
   "execution_count": 1,
   "metadata": {},
   "outputs": [],
   "source": [
    "# functions not used in main program (but probably could)\n",
    "def meal_name(search_term):\n",
    "    url = 'https://www.themealdb.com/api/json/v1/1/filter.php'\n",
    "    params = {'i': search_term}   \n",
    "    try:\n",
    "        response = requests.get(url, params=params)\n",
    "        response.raise_for_status()\n",
    "        meal_data = response.json()\n",
    "        if meal_data['meals']:\n",
    "            for meal in meal_data['meals']:\n",
    "                image_url = meal['strMealThumb'] + '/preview'\n",
    "                display_image(image_url)\n",
    "                print(f\"Meal Name: {meal['strMeal']}\")\n",
    "        else:\n",
    "            print(f\"No meal found with the main ingredient '{search_term}'.\")\n",
    "    except requests.exceptions.RequestException as e:\n",
    "        print(f\"Error: {e}\")\n",
    "\n",
    "def meal_by_main_ingredient(search_term):\n",
    "    url = 'https://www.themealdb.com/api/json/v1/1/filter.php'\n",
    "    params = {'i': search_term}   \n",
    "    try:\n",
    "        response = requests.get(url, params=params)\n",
    "        response.raise_for_status()\n",
    "        meal_data = response.json()\n",
    "        if meal_data['meals']:\n",
    "            for meal in meal_data['meals']:\n",
    "                image_url = meal['strMealThumb'] + '/preview'\n",
    "                display_image(image_url)\n",
    "                print(f\"Meal Name: {meal['strMeal']}\")\n",
    "        else:\n",
    "            print(f\"No meal found with the main ingredient '{search_term}'.\")\n",
    "    except requests.exceptions.RequestException as e:\n",
    "        print(f\"Error: {e}\")"
   ]
  },
  {
   "cell_type": "code",
   "execution_count": 2,
   "metadata": {},
   "outputs": [
    {
     "name": "stdout",
     "output_type": "stream",
     "text": [
      "Collecting emoji\n",
      "  Downloading emoji-2.9.0-py2.py3-none-any.whl (397 kB)\n",
      "\u001b[2K     \u001b[90m━━━━━━━━━━━━━━━━━━━━━━━━━━━━━━━━━━━━━━\u001b[0m \u001b[32m397.5/397.5 kB\u001b[0m \u001b[31m14.4 MB/s\u001b[0m eta \u001b[36m0:00:00\u001b[0m\n",
      "\u001b[?25hInstalling collected packages: emoji\n",
      "Successfully installed emoji-2.9.0\n"
     ]
    }
   ],
   "source": [
    "# Main program starts here - Defining all my variables and functions. + all imports needed\n",
    "#581 lines of code all together (w/ some commenting because it kept \n",
    "#me organized and i was so far over 200 lines\n",
    "!pip install emoji\n",
    "import pandas as pd\n",
    "import requests\n",
    "from ipywidgets import interact, widgets\n",
    "from IPython.display import display, HTML, Image\n",
    "from ipywidgets import interact_manual\n",
    "from PIL import Image, ImageDraw\n",
    "from io import BytesIO\n",
    "from IPython.display import display, HTML\n",
    "import emoji\n",
    "\n",
    "# Emoji Unicodes\n",
    "heart_emoji = emoji.emojize(\":pink_heart:\")\n",
    "calendar = emoji.emojize(\":calendar:\")\n",
    "computer = emoji.emojize(\":laptop:\")\n",
    "magic = emoji.emojize(\":crystal_ball:\")\n",
    "laughing_emoji = emoji.emojize(\":rolling_on_the_floor_laughing:\")\n",
    "talk =  emoji.emojize(\":zany_face:\")\n",
    "cook = emoji.emojize(\":cook:\")\n",
    "hand = emoji.emojize(\":waving_hand:\")\n",
    "pizza = emoji.emojize(\":pizza:\")\n",
    "burger = emoji.emojize(\":hamburger:\")\n",
    "sandwich = emoji.emojize(\":sandwich:\")\n",
    "burrito = emoji.emojize(\":burrito:\")\n",
    "taco = emoji.emojize(\":taco:\")\n",
    "drink = emoji.emojize(\":bottle_with_popping_cork:\")\n",
    "martini = emoji.emojize(\":cocktail_glass:\")\n",
    "tropical = emoji.emojize(\":tropical_drink:\")\n",
    "clink = emoji.emojize(\":clinking_glasses:\")\n",
    "yoga = emoji.emojize(\":person_in_lotus_position:\")\n",
    "lucky = emoji.emojize(\":four_leaf_clover:\")\n",
    "kiss = emoji.emojize(\":face_blowing_a_kiss:\")\n",
    "star = emoji.emojize(\":glowing_star:\")\n",
    "night = emoji.emojize(\":night_with_stars:\")\n",
    "hearts = emoji.emojize(\":two_hearts:\")\n",
    "\n",
    "def display_image(url):\n",
    "    try:\n",
    "        response_image = requests.get(url)\n",
    "        response_image.raise_for_status()\n",
    "        image = Image.open(BytesIO(response_image.content))\n",
    "        display(image)\n",
    "    except requests.exceptions.RequestException as e:\n",
    "        print(f\"Error fetching image: {e}\")\n",
    "    except Exception as e:\n",
    "        print(f\"Unexpected error in display_image: {e}\")\n",
    "\n",
    "def meal_name(search_term):\n",
    "    url = 'https://www.themealdb.com/api/json/v1/1/filter.php'\n",
    "    params = {'i': search_term}   \n",
    "    try:\n",
    "        response = requests.get(url, params=params)\n",
    "        response.raise_for_status()\n",
    "        meal_data = response.json()\n",
    "        if meal_data['meals']:\n",
    "            for meal in meal_data['meals']:\n",
    "                image_url = meal['strMealThumb'] + '/preview'\n",
    "                display_image(image_url)\n",
    "                print(f\"Meal Name: {meal['strMeal']}\")\n",
    "        else:\n",
    "            print(f\"No meal found with the main ingredient '{search_term}'.\")\n",
    "    except requests.exceptions.RequestException as e:\n",
    "        print(f\"Error: {e}\")\n",
    "\n",
    "def meal_by_main_ingredient(search_term):\n",
    "    url = 'https://www.themealdb.com/api/json/v1/1/filter.php'\n",
    "    params = {'i': search_term}   \n",
    "    try:\n",
    "        response = requests.get(url, params=params)\n",
    "        response.raise_for_status()\n",
    "        meal_data = response.json()\n",
    "        if meal_data['meals']:\n",
    "            for meal in meal_data['meals']:\n",
    "                image_url = meal['strMealThumb'] + '/preview'\n",
    "                display_image(image_url)\n",
    "                print(f\"Meal Name: {meal['strMeal']}\")\n",
    "        else:\n",
    "            print(f\"No meal found with the main ingredient '{search_term}'.\")\n",
    "    except requests.exceptions.RequestException as e:\n",
    "        print(f\"Error: {e}\")\n",
    "\n",
    "def search_meal_by_name(meal_name):\n",
    "    base_url = 'https://www.themealdb.com/api/json/v1/1/search.php'\n",
    "    params = {'s': meal_name}\n",
    "    try:\n",
    "        response = requests.get(base_url, params=params)\n",
    "        response.raise_for_status()  \n",
    "        meal_data = response.json()\n",
    "        if meal_data['meals']:\n",
    "            for meal in meal_data['meals']:\n",
    "                image_url = meal['strMealThumb'] + '/preview'\n",
    "                display_image(image_url)\n",
    "\n",
    "                print(f\"Meal Name: {meal['strMeal']}\")\n",
    "                print(f\"Category: {meal['strCategory']}\")\n",
    "                print(f\"Area: {meal['strArea']}\")\n",
    "                print(f\"Instructions: {meal['strInstructions']}\")\n",
    "                print(\"\\nIngredients:\")\n",
    "                for i in range(1, 21):\n",
    "                    ingredient = meal[f'strIngredient{i}']\n",
    "                    measure = meal[f'strMeasure{i}']\n",
    "                    if ingredient and measure:\n",
    "                        print(f\"- {measure} {ingredient}\")\n",
    "                        ingredient_image_url = f\"https://www.themealdb.com/images/ingredients/{ingredient}-Small.png\"\n",
    "                        display_image(ingredient_image_url)\n",
    "\n",
    "                print(f\"Tags: {meal['strTags']}\")\n",
    "                print(f\"YouTube Link: {meal['strYoutube']}\")\n",
    "                print(\"\\n\" + \"-\"*50)\n",
    "        else:\n",
    "            print(f\"No meal found with the name '{meal_name}'.\")\n",
    "    except requests.exceptions.RequestException as e:\n",
    "        print(f\"Error: {e}\")\n",
    "\n",
    "def get_cocktail_info(input_param):\n",
    "    apikey = 'BcXwWle8rDKgl3gV2XW+kQ==zeoCalvicZMAoEqJ'\n",
    "    if ',' in input_param:\n",
    "        # if input contains a comma, assume it's ingredients\n",
    "        api_url = 'https://api.api-ninjas.com/v1/cocktail?ingredients={}'.format(input_param)\n",
    "    else:\n",
    "        # if no comma assume it's the name of the cocktail\n",
    "        api_url = 'https://api.api-ninjas.com/v1/cocktail?name={}'.format(input_param)\n",
    "    try:\n",
    "        response = requests.get(api_url, headers={'X-Api-Key': apikey})\n",
    "        recipes = response.json()\n",
    "        if response.status_code == requests.codes.ok:\n",
    "            if not recipes:\n",
    "                print(f\"No recipes found for the input: {input_param}\")\n",
    "                return\n",
    "            for recipe in recipes:\n",
    "                print(f\"Recipe Name: {recipe.get('name', 'N/A')}\")\n",
    "                print(\"\\nIngredients:\")\n",
    "                for ingredient in recipe.get('ingredients', []):\n",
    "                    print(f\" - {ingredient}\")\n",
    "                print(\"\\nInstructions:\")\n",
    "                print(f\" {recipe.get('instructions', 'N/A')}\\n\")\n",
    "        else:\n",
    "            print(\"Error:\", response.status_code, response.text)\n",
    "    except requests.exceptions.RequestException as e:\n",
    "        print(f\"Error: {e}\")\n",
    "\n",
    "def get_conversation_topics(limit):\n",
    "    apikey = 'BcXwWle8rDKgl3gV2XW+kQ==zeoCalvicZMAoEqJ'\n",
    "    api_url = 'https://api.api-ninjas.com/v1/facts?limit={}'.format(limit)\n",
    "    try:\n",
    "        response = requests.get(api_url, headers={'X-Api-Key': apikey})\n",
    "        response.raise_for_status()\n",
    "        facts = response.json()\n",
    "        result = \"\"\n",
    "        for i, fact in enumerate(facts):\n",
    "            result += f\"Fact #{i + 1}: {fact['fact']}\\n\"\n",
    "    except requests.exceptions.RequestException as e:\n",
    "        print(f\"Error fetching conversation topics: {e}\")\n",
    "        result = \"Error fetching conversation topics.\"\n",
    "    except Exception as e:\n",
    "        print(f\"Unexpected error in get_conversation_topics: {e}\")\n",
    "        result = \"Unexpected error fetching conversation topics.\"\n",
    "    return result\n",
    "\n",
    "def got_jokes(limit):\n",
    "    apikey = 'BcXwWle8rDKgl3gV2XW+kQ==zeoCalvicZMAoEqJ'\n",
    "    api_url = 'https://api.api-ninjas.com/v1/jokes?limit={}'.format(limit)\n",
    "    try:\n",
    "        response = requests.get(api_url, headers={'X-Api-Key': apikey})\n",
    "        response.raise_for_status()\n",
    "        jokes = response.json()\n",
    "        result = \"\"\n",
    "        for i, joke in enumerate(jokes):\n",
    "            result += f\"Joke #{i + 1}: {joke['joke']}\\n\"\n",
    "    except requests.exceptions.RequestException as e:\n",
    "        print(f\"Error fetching jokes: {e}\")\n",
    "        result = \"Error fetching jokes.\"\n",
    "    except Exception as e:\n",
    "        print(f\"Unexpected error in got_jokes: {e}\")\n",
    "        result = \"Unexpected error fetching jokes.\"\n",
    "    return result\n",
    "\n",
    "def get_zodiac(day, month):\n",
    "    try:\n",
    "        if not (1 <= month <= 12) or not (1 <= day <= 31):\n",
    "            raise ValueError(\"Invalid month or day. Month should be between 1 and 12, and day should be between 1 and 31.\")\n",
    "        if month == 1: \n",
    "            return 'Capricorn' if (day < 20) else 'Aquarius'\n",
    "        elif month == 2: \n",
    "            return 'Aquarius' if (day < 19) else 'Pisces'\n",
    "        elif month == 3: \n",
    "            return 'Pisces' if (day < 21) else 'Aries'\n",
    "        elif month == 4: \n",
    "            return 'Aries' if (day < 20) else 'Taurus'\n",
    "        elif month == 5: \n",
    "            return 'Taurus' if (day < 21) else 'Gemini'\n",
    "        elif month == 6: \n",
    "            return 'Gemini' if (day < 21) else 'Cancer'\n",
    "        elif month == 7: \n",
    "            return 'Cancer' if (day < 23) else 'Leo'\n",
    "        elif month == 8: \n",
    "            return 'Leo' if (day < 23) else 'Virgo'\n",
    "        elif month == 9: \n",
    "            return 'Virgo' if (day < 23) else 'Libra'\n",
    "        elif month == 10: \n",
    "            return 'Libra' if (day < 23) else 'Scorpio'\n",
    "        elif month == 11: \n",
    "            return 'Scorpio' if (day < 22) else 'Sagittarius'\n",
    "        elif month == 12: \n",
    "            return 'Sagittarius' if (day < 22) else 'Capricorn'\n",
    "    except ValueError as e:\n",
    "        return f\"Error: {e}\"\n",
    "    except Exception as e:\n",
    "        return f\"Unexpected error: {e}\"\n",
    "#zodiac compatibility\n",
    "zodiac_df = pd.read_csv('love_compatability_df.csv')\n",
    "#display(zodiac_df)\n",
    "#zodiac compatibility\n",
    "zodiac_df = pd.read_csv('love_compatability_df.csv')\n",
    "#display(zodiac_df)\n",
    "def check_zodiac_compatibility(sign1, sign2):\n",
    "    try:\n",
    "        sign1_lower = sign1.lower()\n",
    "        sign2_lower = sign2.lower()\n",
    "        if sign1_lower not in zodiac_df['Sign'].str.lower().values or sign2_lower not in zodiac_df['Sign'].str.lower().values:\n",
    "            raise ValueError(\"Invalid zodiac sign.\")\n",
    "        compatibility1 = zodiac_df[zodiac_df['Sign'].str.lower() == sign1_lower][['Compatible #1', 'Compatible #2']].values.flatten()\n",
    "        compatibility1 = [comp.lower() for comp in compatibility1 if comp.lower() != sign1_lower]\n",
    "        compatibility2 = zodiac_df[zodiac_df['Sign'].str.lower() == sign2_lower][['Compatible #1', 'Compatible #2']].values.flatten()\n",
    "        compatibility2 = [comp.lower() for comp in compatibility2 if comp.lower() != sign2_lower]\n",
    "        if sign2_lower in compatibility1 and sign1_lower in compatibility2:\n",
    "            return f\"{sign1} and {sign2} are compatible! What a great start to your date.\"\n",
    "        else:\n",
    "            return f\"{sign1} and {sign2} are not compatible. But... love trumps astrology, go get 'em tiger!\"\n",
    "    except (ValueError, IndexError) as e:\n",
    "        return f\"Error: {e}\"\n",
    "    except Exception as e:\n",
    "        return f\"Unexpected error: {e}\"\n",
    "\n",
    "def name_compatibility(your_name, date_name):\n",
    "    try:\n",
    "        query_string = {\"sname\": your_name, \"fname\": date_name}\n",
    "        url = \"https://love-calculator.p.rapidapi.com/getPercentage\"\n",
    "        headers = {\n",
    "            \"X-RapidAPI-Key\": \"44bbd2bb92msh4dc4fb91814270ep1fab53jsn0edf5da152da\",\n",
    "            \"X-RapidAPI-Host\": \"love-calculator.p.rapidapi.com\"\n",
    "        }\n",
    "        response = requests.get(url, headers=headers, params=query_string)\n",
    "        response.raise_for_status()\n",
    "        name_comp = response.json()\n",
    "        percentage = name_comp.get('percentage')\n",
    "        result = name_comp.get('result')\n",
    "        if percentage is not None and result is not None:\n",
    "            return f\"Percent Compatible: {percentage}%, Outcome: {result}\"\n",
    "        else:\n",
    "            raise ValueError(\"Invalid response format from the API.\")\n",
    "    except requests.exceptions.RequestException as req_err:\n",
    "        return f\"Request error: {req_err}\"\n",
    "    except ValueError as val_err:\n",
    "        return f\"Value error: {val_err}\"\n",
    "    except Exception as e:\n",
    "        return f\"Unexpected error: {e}\"\n",
    "\n",
    "def get_motivation():\n",
    "    try:\n",
    "        apikey = 'BcXwWle8rDKgl3gV2XW+kQ==zeoCalvicZMAoEqJ'\n",
    "        category = 'love'\n",
    "        api_url = 'https://api.api-ninjas.com/v1/quotes?category={}'.format(category)\n",
    "        response = requests.get(api_url, headers={'X-Api-Key': apikey})\n",
    "        response.raise_for_status()\n",
    "        if response.status_code == requests.codes.ok:\n",
    "            quote_data = response.json()\n",
    "            if quote_data and isinstance(quote_data, list):\n",
    "                quote = quote_data[0]\n",
    "                quote_text = quote.get('quote')\n",
    "                author = quote.get('author')\n",
    "                if quote_text and author:\n",
    "                    print(f\"{quote_text} - {author}\")\n",
    "                else:\n",
    "                    raise ValueError(\"Invalid response format from the API.\")\n",
    "            else:\n",
    "                raise ValueError(\"Invalid response format from the API.\")\n",
    "        else:\n",
    "            raise ValueError(f\"Error: {response.status_code}, {response.text}\")\n",
    "    except requests.exceptions.RequestException as req_err:\n",
    "        print(f\"Request error: {req_err}\")\n",
    "    except ValueError as val_err:\n",
    "        print(f\"Value error: {val_err}\")\n",
    "    except Exception as e:\n",
    "        print(f\"Unexpected error: {e}\")\n",
    "\n",
    "zodiac_sign = \"\"\n",
    "date_zodiac_sign = \"\"\n"
   ]
  },
  {
   "cell_type": "code",
   "execution_count": null,
   "metadata": {},
   "outputs": [],
   "source": []
  },
  {
   "cell_type": "code",
   "execution_count": 3,
   "metadata": {},
   "outputs": [
    {
     "data": {
      "text/html": [
       "<h1>🌃🩷📅Date Planner📅🩷🌃</h1>"
      ],
      "text/plain": [
       "<IPython.core.display.HTML object>"
      ]
     },
     "metadata": {},
     "output_type": "display_data"
    },
    {
     "data": {
      "text/html": [
       "Are you a lonely computer 💻 programmer who managed to score a date? Let us help you plan it out!"
      ],
      "text/plain": [
       "<IPython.core.display.HTML object>"
      ]
     },
     "metadata": {},
     "output_type": "display_data"
    },
    {
     "data": {
      "text/html": [
       "🌟Enter some information about your date, yourself, and we will do the rest!🌟"
      ],
      "text/plain": [
       "<IPython.core.display.HTML object>"
      ]
     },
     "metadata": {},
     "output_type": "display_data"
    },
    {
     "data": {
      "text/html": [
       "Let's figure out your zodiac sign 🔮"
      ],
      "text/plain": [
       "<IPython.core.display.HTML object>"
      ]
     },
     "metadata": {},
     "output_type": "display_data"
    },
    {
     "data": {
      "application/vnd.jupyter.widget-view+json": {
       "model_id": "e3afe7cd24314309bd2b0a8685a2a91b",
       "version_major": 2,
       "version_minor": 0
      },
      "text/plain": [
       "interactive(children=(IntSlider(value=1, description='Month:', max=12, min=1), IntSlider(value=1, description=…"
      ]
     },
     "metadata": {},
     "output_type": "display_data"
    },
    {
     "data": {
      "text/html": [
       "Now let's figure out your date's zodiac sign"
      ],
      "text/plain": [
       "<IPython.core.display.HTML object>"
      ]
     },
     "metadata": {},
     "output_type": "display_data"
    },
    {
     "data": {
      "application/vnd.jupyter.widget-view+json": {
       "model_id": "7e12368cad894af7b8ba72a3465dbeb2",
       "version_major": 2,
       "version_minor": 0
      },
      "text/plain": [
       "interactive(children=(IntSlider(value=1, description='Date Month:', max=12, min=1), IntSlider(value=1, descrip…"
      ]
     },
     "metadata": {},
     "output_type": "display_data"
    },
    {
     "data": {
      "text/html": [
       "Now let's check the zodiac compatibility"
      ],
      "text/plain": [
       "<IPython.core.display.HTML object>"
      ]
     },
     "metadata": {},
     "output_type": "display_data"
    },
    {
     "data": {
      "text/html": [
       "Pressing this button will tell you whether or not you and your date are compatible based on your zodiac signs"
      ],
      "text/plain": [
       "<IPython.core.display.HTML object>"
      ]
     },
     "metadata": {},
     "output_type": "display_data"
    },
    {
     "data": {
      "application/vnd.jupyter.widget-view+json": {
       "model_id": "fa8da79f47bd445cb8ee5c256b24dea6",
       "version_major": 2,
       "version_minor": 0
      },
      "text/plain": [
       "Button(description='Check Compatibility', style=ButtonStyle())"
      ]
     },
     "metadata": {},
     "output_type": "display_data"
    },
    {
     "data": {
      "application/vnd.jupyter.widget-view+json": {
       "model_id": "d8f5f555e3184e4eae5e7c3b4bb48809",
       "version_major": 2,
       "version_minor": 0
      },
      "text/plain": [
       "Output()"
      ]
     },
     "metadata": {},
     "output_type": "display_data"
    },
    {
     "data": {
      "text/html": [
       "Now, let's calculate the compatibility of you and your date's names"
      ],
      "text/plain": [
       "<IPython.core.display.HTML object>"
      ]
     },
     "metadata": {},
     "output_type": "display_data"
    },
    {
     "data": {
      "text/html": [
       "👋This is another chance for you to see if you are compatible with your date!"
      ],
      "text/plain": [
       "<IPython.core.display.HTML object>"
      ]
     },
     "metadata": {},
     "output_type": "display_data"
    },
    {
     "data": {
      "text/html": [
       "Enter you and your date's names and see your chance at true love"
      ],
      "text/plain": [
       "<IPython.core.display.HTML object>"
      ]
     },
     "metadata": {},
     "output_type": "display_data"
    },
    {
     "data": {
      "application/vnd.jupyter.widget-view+json": {
       "model_id": "42daf24d2fd94b55ab2900861b2ede3b",
       "version_major": 2,
       "version_minor": 0
      },
      "text/plain": [
       "interactive(children=(Text(value='', description='your_name'), Text(value='', description='date_name'), Output…"
      ]
     },
     "metadata": {},
     "output_type": "display_data"
    },
    {
     "data": {
      "text/html": [
       "Even if you and your date aren't compatible by zodiac or name, you can still woo them!"
      ],
      "text/plain": [
       "<IPython.core.display.HTML object>"
      ]
     },
     "metadata": {},
     "output_type": "display_data"
    },
    {
     "data": {
      "text/html": [
       "A dinner date is a great way to show that you care, lets pick out a 🧑‍🍳recipe🧑‍🍳 to make your date."
      ],
      "text/plain": [
       "<IPython.core.display.HTML object>"
      ]
     },
     "metadata": {},
     "output_type": "display_data"
    },
    {
     "data": {
      "text/html": [
       "<h1>🍕🍔🥪🌯🌮<h1>"
      ],
      "text/plain": [
       "<IPython.core.display.HTML object>"
      ]
     },
     "metadata": {},
     "output_type": "display_data"
    },
    {
     "data": {
      "application/vnd.jupyter.widget-view+json": {
       "model_id": "e608ebf401424ec095f2c7795b3175c3",
       "version_major": 2,
       "version_minor": 0
      },
      "text/plain": [
       "Text(value='', continuous_update=False, description='Meal Name:', placeholder='Enter meal name')"
      ]
     },
     "metadata": {},
     "output_type": "display_data"
    },
    {
     "data": {
      "application/vnd.jupyter.widget-view+json": {
       "model_id": "f376072f3a324f7da2c0bf700c4a7acb",
       "version_major": 2,
       "version_minor": 0
      },
      "text/plain": [
       "Button(description='Display Recipe', style=ButtonStyle())"
      ]
     },
     "metadata": {},
     "output_type": "display_data"
    },
    {
     "data": {
      "application/vnd.jupyter.widget-view+json": {
       "model_id": "61d628fac96f4d0593fa6e93e7df42cb",
       "version_major": 2,
       "version_minor": 0
      },
      "text/plain": [
       "Output()"
      ]
     },
     "metadata": {},
     "output_type": "display_data"
    },
    {
     "data": {
      "text/html": [
       "Now that you have your dinner planned, lets pick a cocktail for the evening:"
      ],
      "text/plain": [
       "<IPython.core.display.HTML object>"
      ]
     },
     "metadata": {},
     "output_type": "display_data"
    },
    {
     "data": {
      "text/html": [
       "<h1>🍾🍸🍹🥂🍾🍸🍹🥂<h1>"
      ],
      "text/plain": [
       "<IPython.core.display.HTML object>"
      ]
     },
     "metadata": {},
     "output_type": "display_data"
    },
    {
     "data": {
      "application/vnd.jupyter.widget-view+json": {
       "model_id": "987c4b6103d641e7bebd83ab90681d13",
       "version_major": 2,
       "version_minor": 0
      },
      "text/plain": [
       "Text(value='', continuous_update=False, description='Cocktail Info:', placeholder='Enter cocktail name or ingr…"
      ]
     },
     "metadata": {},
     "output_type": "display_data"
    },
    {
     "data": {
      "application/vnd.jupyter.widget-view+json": {
       "model_id": "63cf52253d0e449ba4da1cb7d0e21bfa",
       "version_major": 2,
       "version_minor": 0
      },
      "text/plain": [
       "Button(description='Display Cocktail Info', style=ButtonStyle())"
      ]
     },
     "metadata": {},
     "output_type": "display_data"
    },
    {
     "data": {
      "application/vnd.jupyter.widget-view+json": {
       "model_id": "2b48ec94be3e4de29ce5ba1342e83ab1",
       "version_major": 2,
       "version_minor": 0
      },
      "text/plain": [
       "Output()"
      ]
     },
     "metadata": {},
     "output_type": "display_data"
    },
    {
     "data": {
      "text/html": [
       "Now that you have your dinner and drinks planned lets make sure the conversation flows"
      ],
      "text/plain": [
       "<IPython.core.display.HTML object>"
      ]
     },
     "metadata": {},
     "output_type": "display_data"
    },
    {
     "data": {
      "text/html": [
       "This button will give you some facts to tell your date in case the conversation stalls🤪"
      ],
      "text/plain": [
       "<IPython.core.display.HTML object>"
      ]
     },
     "metadata": {},
     "output_type": "display_data"
    },
    {
     "data": {
      "application/vnd.jupyter.widget-view+json": {
       "model_id": "fb6d04022eea45c2a1e205199f8f7ef2",
       "version_major": 2,
       "version_minor": 0
      },
      "text/plain": [
       "IntSlider(value=1, continuous_update=False, description='# of Topics:', max=5, min=1)"
      ]
     },
     "metadata": {},
     "output_type": "display_data"
    },
    {
     "data": {
      "application/vnd.jupyter.widget-view+json": {
       "model_id": "e2c25f43aafd4482b362f4e2c3c917e3",
       "version_major": 2,
       "version_minor": 0
      },
      "text/plain": [
       "Button(description='Topics', style=ButtonStyle())"
      ]
     },
     "metadata": {},
     "output_type": "display_data"
    },
    {
     "data": {
      "application/vnd.jupyter.widget-view+json": {
       "model_id": "836d671297ba43b79ef6439a04cc48b8",
       "version_major": 2,
       "version_minor": 0
      },
      "text/plain": [
       "Output()"
      ]
     },
     "metadata": {},
     "output_type": "display_data"
    },
    {
     "data": {
      "text/html": [
       "This button will generate some jokes for you to tell your date 🤣"
      ],
      "text/plain": [
       "<IPython.core.display.HTML object>"
      ]
     },
     "metadata": {},
     "output_type": "display_data"
    },
    {
     "data": {
      "application/vnd.jupyter.widget-view+json": {
       "model_id": "793ecdd9834a46eaa91b4528314922c8",
       "version_major": 2,
       "version_minor": 0
      },
      "text/plain": [
       "IntSlider(value=1, continuous_update=False, description='# of Jokes:', max=5, min=1)"
      ]
     },
     "metadata": {},
     "output_type": "display_data"
    },
    {
     "data": {
      "application/vnd.jupyter.widget-view+json": {
       "model_id": "2b985d79a955419cb52f7d84af2b502a",
       "version_major": 2,
       "version_minor": 0
      },
      "text/plain": [
       "Button(description='Generate Jokes', style=ButtonStyle())"
      ]
     },
     "metadata": {},
     "output_type": "display_data"
    },
    {
     "data": {
      "application/vnd.jupyter.widget-view+json": {
       "model_id": "3a966dedcea24b0eaee31f09abfa1a3a",
       "version_major": 2,
       "version_minor": 0
      },
      "text/plain": [
       "Output()"
      ]
     },
     "metadata": {},
     "output_type": "display_data"
    },
    {
     "data": {
      "text/html": [
       "💕Now you have all the components for a great date💕"
      ],
      "text/plain": [
       "<IPython.core.display.HTML object>"
      ]
     },
     "metadata": {},
     "output_type": "display_data"
    },
    {
     "data": {
      "text/html": [
       "Remember to be yourself, have fun, and relax 🧘"
      ],
      "text/plain": [
       "<IPython.core.display.HTML object>"
      ]
     },
     "metadata": {},
     "output_type": "display_data"
    },
    {
     "data": {
      "text/html": [
       "I'll leave you with a qoute about love to ponder before your date, just press this button:"
      ],
      "text/plain": [
       "<IPython.core.display.HTML object>"
      ]
     },
     "metadata": {},
     "output_type": "display_data"
    },
    {
     "data": {
      "application/vnd.jupyter.widget-view+json": {
       "model_id": "7d30f270ab6b4d96934be49b56e649d0",
       "version_major": 2,
       "version_minor": 0
      },
      "text/plain": [
       "Button(description='qoute <3', style=ButtonStyle())"
      ]
     },
     "metadata": {},
     "output_type": "display_data"
    },
    {
     "data": {
      "application/vnd.jupyter.widget-view+json": {
       "model_id": "be52a653c46a4a4d924bf805a3eb8792",
       "version_major": 2,
       "version_minor": 0
      },
      "text/plain": [
       "Output()"
      ]
     },
     "metadata": {},
     "output_type": "display_data"
    },
    {
     "data": {
      "text/html": [
       "<h1>🍀 😘 GOOD LUCK 😘 🍀<h1>:"
      ],
      "text/plain": [
       "<IPython.core.display.HTML object>"
      ]
     },
     "metadata": {},
     "output_type": "display_data"
    }
   ],
   "source": [
    "# Display HTML\n",
    "display(HTML(f\"<h1>{night}{heart_emoji}{calendar}Date Planner{calendar}{heart_emoji}{night}</h1>\"))\n",
    "display(HTML(f\"Are you a lonely computer {computer} programmer who managed to score a date? Let us help you plan it out!\"))\n",
    "display(HTML(f\"{star}Enter some information about your date, yourself, and we will do the rest!{star}\"))\n",
    "\n",
    "display(HTML(f\"Let's figure out your zodiac sign {magic}\"))\n",
    "\n",
    "#interact for the birthdate slider of user\n",
    "@interact(month=widgets.IntSlider(value=1, min=1, max=12, description=\"Month:\", layout=dict(style={'description_width': 'initial'})),\n",
    "          day=widgets.IntSlider(value=1, min=1, max=31, description=\"Day:\", layout=dict(style={'description_width': 'initial'})))\n",
    "def calculate_zodiac_sign(month, day):\n",
    "    global zodiac_sign\n",
    "    zodiac_sign = get_zodiac(day, month)\n",
    "    print(f\"Your zodiac sign is: {zodiac_sign}\")\n",
    "    return zodiac_sign\n",
    "\n",
    "display(HTML(\"Now let's figure out your date's zodiac sign\"))\n",
    "\n",
    "#interactive function date's birthday slider\n",
    "@interact(date_month=widgets.IntSlider(value=1, min=1, max=12, description=\"Date Month:\", layout=dict(style={'description_width': 'initial'})),\n",
    "          date_day=widgets.IntSlider(value=1, min=1, max=31, description=\"Date Day:\", layout=dict(style={'description_width': 'initial'})))\n",
    "def calculate_date_zodiac_sign(date_month, date_day):\n",
    "    global date_zodiac_sign\n",
    "    date_zodiac_sign = get_zodiac(date_day, date_month)\n",
    "    print(f\"Your date's zodiac sign is: {date_zodiac_sign}\")\n",
    "    return date_zodiac_sign\n",
    "\n",
    "display(HTML(\"Now let's check the zodiac compatibility\"))\n",
    "display(HTML(\"Pressing this button will tell you whether or not you and your date are compatible based on your zodiac signs\"))\n",
    "\n",
    "# button to trigger compatibility check with the zodiac signs inputted by the user\n",
    "button = widgets.Button(description=\"Check Compatibility\")\n",
    "output = widgets.Output()\n",
    "\n",
    "# df w/ the top 2 most compatible zodiacs of each sign\n",
    "zodiac_df = pd.read_csv('love_compatability_df.csv')\n",
    "\n",
    "def zodiac_compatibility(button):\n",
    "    try:\n",
    "        with output:\n",
    "            compatibility_result = check_zodiac_compatibility(zodiac_sign, date_zodiac_sign)\n",
    "            display(HTML(f\"<p>{compatibility_result}</p>\"))\n",
    "    except Exception as e:\n",
    "        print(f\"Unexpected error: {e}\")\n",
    "# Set button to check compatibility when clicked\n",
    "button.on_click(zodiac_compatibility)\n",
    "\n",
    "# Display the button and output of the compatibility\n",
    "display(button)\n",
    "display(output)\n",
    "\n",
    "# code for the love calculator w/ emojis\n",
    "display(HTML(\"Now, let's calculate the compatibility of you and your date's names\"))\n",
    "display(HTML(f\"{hand}This is another chance for you to see if you are compatible with your date!\"))\n",
    "display(HTML(\"Enter you and your date's names and see your chance at true love\"))\n",
    "\n",
    "@widgets.interact(your_name=\"\", date_name=\"\")\n",
    "def calculate_love_compatibility(your_name, date_name):\n",
    "    try:\n",
    "        result = name_compatibility(your_name, date_name)\n",
    "        display(widgets.HTML(value=result))\n",
    "    except requests.exceptions.RequestException as req_err:\n",
    "        print(f\"Request error: {req_err}\")\n",
    "    except ValueError as val_err:\n",
    "        print(f\"Value error: {val_err}\")\n",
    "    except Exception as e:\n",
    "        print(f\"Unexpected error: {e}\")\n",
    "\n",
    "display(HTML(\"Even if you and your date aren't compatible by zodiac or name, you can still woo them!\"))\n",
    "display(HTML(f\"A dinner date is a great way to show that you care, lets pick out a {cook}recipe{cook} to make your date.\"))\n",
    "display(HTML(f\"<h1>{pizza}{burger}{sandwich}{burrito}{taco}<h1>\"))\n",
    "\n",
    "# Define an interactive widget for user input\n",
    "meal_name_input = widgets.Text(\n",
    "    value='',\n",
    "    placeholder='Enter meal name',\n",
    "    description='Meal Name:',\n",
    "    continuous_update=False\n",
    ")\n",
    "\n",
    "# Output widget for displaying the recipe\n",
    "recipe_output = widgets.Output()\n",
    "\n",
    "# Function to handle recipe button click\n",
    "def display_recipe(button):\n",
    "    try:\n",
    "        with recipe_output:\n",
    "            recipe_name = meal_name_input.value\n",
    "            result = search_meal_by_name(recipe_name)\n",
    "            display(widgets.HTML(value=result))\n",
    "    except requests.exceptions.RequestException as req_err:\n",
    "        print(f\"Request error: {req_err}\")\n",
    "    except ValueError as val_err:\n",
    "        print(f\"Value error: {val_err}\")\n",
    "    except Exception as e:\n",
    "        print(f\"Unexpected error: {e}\")\n",
    "\n",
    "# Button to trigger recipe display\n",
    "recipe_button = widgets.Button(description=\"Display Recipe\")\n",
    "recipe_button.on_click(display_recipe)\n",
    "\n",
    "# Display the meal name input and recipe button\n",
    "display(meal_name_input)\n",
    "display(recipe_button)\n",
    "display(recipe_output)\n",
    "\n",
    "display(HTML(\"Now that you have your dinner planned, lets pick a cocktail for the evening:\"))\n",
    "display(HTML(f\"<h1>{drink}{martini}{tropical}{clink}{drink}{martini}{tropical}{clink}<h1>\"))\n",
    "\n",
    "# Define an interactive widget for user input (cocktail info)\n",
    "cocktail_input = widgets.Text(\n",
    "    value='',\n",
    "    placeholder='Enter cocktail name or ingredients',\n",
    "    description='Cocktail Info:',\n",
    "    continuous_update=False\n",
    ")\n",
    "\n",
    "# Output widget for displaying the cocktail recipe\n",
    "cocktail_output = widgets.Output()\n",
    "\n",
    "# Function to handle cocktail button click\n",
    "def display_cocktail_info(button):\n",
    "    try:\n",
    "        with cocktail_output:\n",
    "            cocktail_param = cocktail_input.value\n",
    "            get_cocktail_info(cocktail_param)\n",
    "    except requests.exceptions.RequestException as req_err:\n",
    "        print(f\"Request error: {req_err}\")\n",
    "    except ValueError as val_err:\n",
    "        print(f\"Value error: {val_err}\")\n",
    "    except Exception as e:\n",
    "        print(f\"Unexpected error: {e}\")\n",
    "\n",
    "# Button to trigger cocktail info\n",
    "cocktail_button = widgets.Button(description=\"Display Cocktail Info\")\n",
    "cocktail_button.on_click(display_cocktail_info)\n",
    "\n",
    "# Display the cocktail input, cocktail button, and cocktail output\n",
    "display(cocktail_input)\n",
    "display(cocktail_button)\n",
    "display(cocktail_output)\n",
    "\n",
    "display(HTML(\"Now that you have your dinner and drinks planned lets make sure the conversation flows\"))\n",
    "\n",
    "display(HTML(f\"This button will give you some facts to tell your date in case the conversation stalls{talk}\"))\n",
    "# interactive widget for user input (conversation topics)\n",
    "topics_limit_input = widgets.IntSlider(\n",
    "    value=0,\n",
    "    min=1,\n",
    "    max=5,\n",
    "    step=1,\n",
    "    description='# of Topics:',\n",
    "    continuous_update=False\n",
    ")\n",
    "\n",
    "topics_output = widgets.Output()\n",
    "\n",
    "# Function to handle topics button click\n",
    "def display_conversation_topics(button):\n",
    "    try:\n",
    "        with topics_output:\n",
    "            # Clear previous output before displaying new topics\n",
    "            topics_output.clear_output(wait=True)\n",
    "            limit = topics_limit_input.value\n",
    "            topics_result = get_conversation_topics(limit)\n",
    "            # Display each topic on a new line\n",
    "            topics_list = topics_result.split('\\n')\n",
    "            for topic in topics_list:\n",
    "                display(widgets.HTML(value=topic))\n",
    "    except requests.exceptions.RequestException as req_err:\n",
    "        print(f\"Request error: {req_err}\")\n",
    "    except ValueError as val_err:\n",
    "        print(f\"Value error: {val_err}\")\n",
    "    except Exception as e:\n",
    "        print(f\"Unexpected error: {e}\")\n",
    "\n",
    "# Button to trigger conversation topics display\n",
    "topics_button = widgets.Button(description=\"Topics\")\n",
    "topics_button.on_click(display_conversation_topics)\n",
    "\n",
    "# Display the topics limit input, topics button, and topics output\n",
    "display(topics_limit_input)\n",
    "display(topics_button)\n",
    "display(topics_output)\n",
    "\n",
    "display(HTML(f\"This button will generate some jokes for you to tell your date {laughing_emoji}\"))\n",
    "# Define an interactive widget for user input (jokes)\n",
    "jokes_limit_input = widgets.IntSlider(\n",
    "    value=0,\n",
    "    min=1,\n",
    "    max=5,\n",
    "    step=1,\n",
    "    description='# of Jokes:',\n",
    "    continuous_update=False\n",
    ")\n",
    "\n",
    "# Output widget for displaying jokes\n",
    "jokes_output = widgets.Output()\n",
    "\n",
    "def display_jokes(button):\n",
    "    try:\n",
    "        with jokes_output:\n",
    "            # Clear previous output before displaying new jokes\n",
    "            jokes_output.clear_output(wait=True)\n",
    "            limit = jokes_limit_input.value\n",
    "            jokes_result = got_jokes(limit)\n",
    "            # Display each joke on a new line\n",
    "            jokes_list = jokes_result.split('\\n')\n",
    "            for joke in jokes_list:\n",
    "                display(widgets.HTML(value=joke))\n",
    "    except requests.exceptions.RequestException as req_err:\n",
    "        print(f\"Request error: {req_err}\")\n",
    "    except ValueError as val_err:\n",
    "        print(f\"Value error: {val_err}\")\n",
    "    except Exception as e:\n",
    "        print(f\"Unexpected error: {e}\")\n",
    "# Button to trigger joke display\n",
    "jokes_button = widgets.Button(description=\"Generate Jokes\")\n",
    "jokes_button.on_click(display_jokes)\n",
    "\n",
    "# Display the jokes limit input, jokes button, and jokes output\n",
    "display(jokes_limit_input)\n",
    "display(jokes_button)\n",
    "display(jokes_output)\n",
    "\n",
    "display(HTML(f\"{hearts}Now you have all the components for a great date{hearts}\"))\n",
    "display(HTML(f\"Remember to be yourself, have fun, and relax {yoga}\"))\n",
    "display(HTML(\"I'll leave you with a qoute about love to ponder before your date, just press this button:\"))\n",
    "\n",
    "# Output widget for displaying motivational quotes\n",
    "motivation_output = widgets.Output()\n",
    "\n",
    "# Function to handle motivation button click\n",
    "def display_motivation(button):\n",
    "    try:\n",
    "        with motivation_output:\n",
    "            # Clear previous output before displaying new motivation\n",
    "            motivation_output.clear_output(wait=True)\n",
    "            get_motivation()\n",
    "    except requests.exceptions.RequestException as req_err:\n",
    "        print(f\"Request error: {req_err}\")\n",
    "    except ValueError as val_err:\n",
    "        print(f\"Value error: {val_err}\")\n",
    "    except Exception as e:\n",
    "        print(f\"Unexpected error: {e}\")\n",
    "\n",
    "# Button to trigger motivation display\n",
    "motivation_button = widgets.Button(description=\"qoute <3\")\n",
    "motivation_button.on_click(display_motivation)\n",
    "\n",
    "# Display the motivation button and output\n",
    "display(motivation_button)\n",
    "display(motivation_output)\n",
    "display(HTML(f\"<h1>{lucky} {kiss} GOOD LUCK {kiss} {lucky}<h1>:\"))"
   ]
  },
  {
   "cell_type": "markdown",
   "metadata": {},
   "source": [
    "### Prepare for your Pitch and Reflection\n",
    "\n",
    "With the project code complete, its time to prepare for the final deliverable - submitting your project demo Pitch and reflection.\n"
   ]
  },
  {
   "cell_type": "code",
   "execution_count": 22,
   "metadata": {},
   "outputs": [
    {
     "data": {
      "application/javascript": [
       "IPython.notebook.save_notebook()"
      ]
     },
     "metadata": {},
     "output_type": "display_data"
    },
    {
     "data": {
      "text/html": [
       "<h2>Submission Details</h2>"
      ],
      "text/plain": [
       "<IPython.core.display.HTML object>"
      ]
     },
     "metadata": {},
     "output_type": "display_data"
    },
    {
     "data": {
      "text/html": [
       "<ul><li>Your NetID: <code>lecoop@syr.edu</code></li><li>Instructor NetID: <code>dvsmith@syr.edu</code></li><li>Blackboard Gradebook Assignment Name: <code>P3</code></li><li>Total Points: <code>0</code></li><li>File You Are Submitting: <code>P3.ipynb</code></li><li>Date/Time of Your Submission: <code>12/17/2023 02:04 PM</code></li><li>Due Date of the Assignment: <code>12/19/2023 11:59 PM</code></li><li><i class='fa fa-exclamation-circle' aria-hidden='true'></i> Your assignment is a resubmission. You submitted on: <code>12/17/2023 01:45 PM</code></ul>"
      ],
      "text/plain": [
       "<IPython.core.display.HTML object>"
      ]
     },
     "metadata": {},
     "output_type": "display_data"
    },
    {
     "data": {
      "text/html": [
       "<p style='color: #993333;'><i class='fa fa-save'></i> <b>To ensure your instructor has the most recent version, press <code>CTRL+S</code> to save your work before submitting.</b></p>"
      ],
      "text/plain": [
       "<IPython.core.display.HTML object>"
      ]
     },
     "metadata": {},
     "output_type": "display_data"
    },
    {
     "data": {
      "application/vnd.jupyter.widget-view+json": {
       "model_id": "f09bcb3bc2ec4e70a5d3dd5c28d2f333",
       "version_major": 2,
       "version_minor": 0
      },
      "text/plain": [
       "HBox(children=(Button(button_style='success', description='Re-Submit', icon='check-circle', style=ButtonStyle(…"
      ]
     },
     "metadata": {},
     "output_type": "display_data"
    },
    {
     "data": {
      "application/vnd.jupyter.widget-view+json": {
       "model_id": "8addf9ffcbe4442d98c47527b223d603",
       "version_major": 2,
       "version_minor": 0
      },
      "text/plain": [
       "Output()"
      ]
     },
     "metadata": {},
     "output_type": "display_data"
    }
   ],
   "source": [
    "# run this code to turn in your work!\n",
    "from coursetools.submission import Submission\n",
    "Submission().submit()"
   ]
  },
  {
   "cell_type": "code",
   "execution_count": null,
   "metadata": {},
   "outputs": [],
   "source": []
  }
 ],
 "metadata": {
  "kernelspec": {
   "display_name": "Python 3 (ipykernel)",
   "language": "python",
   "name": "python3"
  },
  "language_info": {
   "codemirror_mode": {
    "name": "ipython",
    "version": 3
   },
   "file_extension": ".py",
   "mimetype": "text/x-python",
   "name": "python",
   "nbconvert_exporter": "python",
   "pygments_lexer": "ipython3",
   "version": "3.11.7"
  },
  "varInspector": {
   "cols": {
    "lenName": 16,
    "lenType": 16,
    "lenVar": 40
   },
   "kernels_config": {
    "python": {
     "delete_cmd_postfix": "",
     "delete_cmd_prefix": "del ",
     "library": "var_list.py",
     "varRefreshCmd": "print(var_dic_list())"
    },
    "r": {
     "delete_cmd_postfix": ") ",
     "delete_cmd_prefix": "rm(",
     "library": "var_list.r",
     "varRefreshCmd": "cat(var_dic_list()) "
    }
   },
   "types_to_exclude": [
    "module",
    "function",
    "builtin_function_or_method",
    "instance",
    "_Feature"
   ],
   "window_display": false
  }
 },
 "nbformat": 4,
 "nbformat_minor": 4
}
